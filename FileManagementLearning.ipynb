{
  "nbformat": 4,
  "nbformat_minor": 0,
  "metadata": {
    "colab": {
      "provenance": [],
      "authorship_tag": "ABX9TyOU9pA4YP5ap7Nttlc+lPMB"
    },
    "kernelspec": {
      "name": "python3",
      "display_name": "Python 3"
    },
    "language_info": {
      "name": "python"
    }
  },
  "cells": [
    {
      "cell_type": "code",
      "source": [
        "# r = Read\n",
        "# a = Append\n",
        "# w = Write\n",
        "# x = Create\n",
        "\n",
        "# f = open(\"TestFile.txt\")\n",
        "\n",
        "# print(f.read())\n",
        "# print(f.read(5))\n",
        "\n",
        "# for line in f:\n",
        "    # print(line)\n",
        "\n",
        "# f.close()\n",
        "\n",
        "try:\n",
        "  f = open(\"TestFile.txt\")\n",
        "  print(f.read())\n",
        "  f.close()\n",
        "except:\n",
        "    print(\"File does not exist\")\n",
        "finally:\n",
        "  f.close()\n"
      ],
      "metadata": {
        "colab": {
          "base_uri": "https://localhost:8080/"
        },
        "id": "7-VmETgCYzuD",
        "outputId": "caaa564b-66d4-4509-a5ab-71894867aa51"
      },
      "execution_count": 11,
      "outputs": [
        {
          "output_type": "stream",
          "name": "stdout",
          "text": [
            "Hey this is the testing file for python learning\n",
            "Hey this is line 2 \n",
            "Hey this is line 3\n",
            "Hey this is line 4\n",
            "Hey this is line 5\n",
            "Lastly this is line 6\n",
            "\n"
          ]
        }
      ]
    },
    {
      "cell_type": "code",
      "source": [],
      "metadata": {
        "id": "ZCJ0iTHdjxm1"
      },
      "execution_count": null,
      "outputs": []
    }
  ]
}