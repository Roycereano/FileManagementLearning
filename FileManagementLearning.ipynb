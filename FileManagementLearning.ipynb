{
  "nbformat": 4,
  "nbformat_minor": 0,
  "metadata": {
    "colab": {
      "provenance": [],
      "authorship_tag": "ABX9TyPydUYoeC5VUUsNhXp6p/fJ"
    },
    "kernelspec": {
      "name": "python3",
      "display_name": "Python 3"
    },
    "language_info": {
      "name": "python"
    }
  },
  "cells": [
    {
      "cell_type": "code",
      "source": [
        "# r = Read\n",
        "# a = Append\n",
        "# w = Write\n",
        "# x = Create\n",
        "\n",
        "# f = open(\"TestFile.txt\")\n",
        "\n",
        "# print(f.read())\n",
        "# print(f.read(5))\n",
        "\n",
        "# for line in f:\n",
        "    # print(line)\n",
        "\n",
        "# f.close()\n",
        "\n",
        "try:\n",
        "  f = open(\"TestFile.txt\")\n",
        "  print(f.read())\n",
        "  f.close()\n",
        "except:\n",
        "    print(\"File does not exist\")\n",
        "finally:\n",
        "  f.close()\n"
      ],
      "metadata": {
        "colab": {
          "base_uri": "https://localhost:8080/"
        },
        "id": "7-VmETgCYzuD",
        "outputId": "caaa564b-66d4-4509-a5ab-71894867aa51"
      },
      "execution_count": 11,
      "outputs": [
        {
          "output_type": "stream",
          "name": "stdout",
          "text": [
            "Hey this is the testing file for python learning\n",
            "Hey this is line 2 \n",
            "Hey this is line 3\n",
            "Hey this is line 4\n",
            "Hey this is line 5\n",
            "Lastly this is line 6\n",
            "\n"
          ]
        }
      ]
    },
    {
      "cell_type": "code",
      "source": [
        "# Append\n",
        "\n",
        "f = open(\"TestFile.txt\", \"a\")\n",
        "f.write(\"This is line 7\")\n",
        "f.close()\n",
        "\n",
        "\n",
        "f = open(\"TestFile.txt\")\n",
        "print(f.read())\n",
        "f.close()\n"
      ],
      "metadata": {
        "colab": {
          "base_uri": "https://localhost:8080/"
        },
        "id": "ZCJ0iTHdjxm1",
        "outputId": "f59f49e3-b776-4b91-8102-01a4ab1676b4"
      },
      "execution_count": 23,
      "outputs": [
        {
          "output_type": "stream",
          "name": "stdout",
          "text": [
            "Hey this is the testing file for python learning\n",
            "Hey this is line 2 \n",
            "Hey this is line 3\n",
            "Hey this is line 4\n",
            "Hey this is line 5\n",
            "Lastly this is line 6\n",
            "This is line 7This is line 7This is line 7This is line 7This is line 7This is line 7This is line 7This is line 7This is line 7\n"
          ]
        }
      ]
    },
    {
      "cell_type": "code",
      "source": [
        "# Write (Overwrite)\n",
        "\n",
        "f = open(\"OverwriteFile.txt\", \"w\")\n",
        "f.write(\"Deleted the original context\")\n",
        "f.close()\n",
        "\n",
        "f = open(\"OverwriteFile.txt\")\n",
        "print(f.read())\n",
        "f.close()"
      ],
      "metadata": {
        "colab": {
          "base_uri": "https://localhost:8080/"
        },
        "id": "y9dDyf6qpcZu",
        "outputId": "22d28ee2-49b3-4b71-fda5-6f2fcfc228ac"
      },
      "execution_count": 26,
      "outputs": [
        {
          "output_type": "stream",
          "name": "stdout",
          "text": [
            "Deleted the original context\n"
          ]
        }
      ]
    },
    {
      "cell_type": "code",
      "source": [
        "import os\n",
        "\n",
        "# Two ways to create a file\n",
        "\n",
        "# Opens a file for writing, creates the file if it does not exist\n",
        "\n",
        "f = open(\"New_File.txt\", \"w\")\n",
        "f.close()\n",
        "\n",
        "# Creates the specified file but returns an error if the file exists.\n",
        "if not os.path.exists(\"testnew.txt\"):\n",
        "  f = open(\"testnew.txt\", \"x\")\n",
        "  f.close()"
      ],
      "metadata": {
        "id": "mdjWS9JNbe3Y"
      },
      "execution_count": 29,
      "outputs": []
    },
    {
      "cell_type": "code",
      "source": [
        "# Delete a file\n",
        "\n",
        "# avoid an error if it doesn't exist.\n",
        "\n",
        "if os.path.exists(\"royce.txt\"):\n",
        "  os.remove(\"royce.txt\")\n",
        "else:\n",
        "  print(\"Could not delete file: File does not exist\")"
      ],
      "metadata": {
        "colab": {
          "base_uri": "https://localhost:8080/"
        },
        "id": "f4C3vkchcrNC",
        "outputId": "a64e9985-48f7-42ad-fee1-a564227c854f"
      },
      "execution_count": 31,
      "outputs": [
        {
          "output_type": "stream",
          "name": "stdout",
          "text": [
            "Could not delete file: File does not exist\n"
          ]
        }
      ]
    },
    {
      "cell_type": "code",
      "source": [
        "with open(\"TestFile.txt\") as f:\n",
        "  content = f.read()\n",
        "\n",
        "with open(\"Overwrite.txt\", \"w\") as f:\n",
        "  f.write(content)\n",
        "\n",
        "f = open(\"Overwrite.txt\")\n",
        "print(f.read())\n",
        "f.close()"
      ],
      "metadata": {
        "colab": {
          "base_uri": "https://localhost:8080/"
        },
        "id": "zty9yovgenH0",
        "outputId": "f1ba1346-9b84-4e41-9b0d-47924f896e6a"
      },
      "execution_count": 36,
      "outputs": [
        {
          "output_type": "stream",
          "name": "stdout",
          "text": [
            "Hey this is the testing file for python learning\n",
            "Hey this is line 2 \n",
            "Hey this is line 3\n",
            "Hey this is line 4\n",
            "Hey this is line 5\n",
            "Lastly this is line 6\n",
            "This is line 7This is line 7This is line 7This is line 7This is line 7This is line 7This is line 7This is line 7This is line 7\n"
          ]
        }
      ]
    }
  ]
}